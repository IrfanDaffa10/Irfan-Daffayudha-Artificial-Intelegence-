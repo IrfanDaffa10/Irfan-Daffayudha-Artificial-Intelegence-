{
  "cells": [
    {
      "cell_type": "markdown",
      "metadata": {
        "id": "view-in-github",
        "colab_type": "text"
      },
      "source": [
        "<a href=\"https://colab.research.google.com/github/IrfanDaffa10/Irfan-Daffayudha-Artificial-Intelegence-/blob/main/Selamat_Datang_di_Colaboratory.ipynb\" target=\"_parent\"><img src=\"https://colab.research.google.com/assets/colab-badge.svg\" alt=\"Open In Colab\"/></a>"
      ]
    },
    {
      "cell_type": "code",
      "source": [
        "import heapq\n",
        "\n",
        "def a_star(grid, start, goal):\n",
        "    def heuristic(a, b):\n",
        "        return abs(a[0] - b[0]) + abs(a[1] - b[1])\n",
        "\n",
        "    directions = [(0, 1), (1, 0), (0, -1), (-1, 0)]\n",
        "    open_list = []\n",
        "    heapq.heappush(open_list, (0, start))\n",
        "\n",
        "    g_score = {start: 0}\n",
        "    f_score = {start: heuristic(start, goal)}\n",
        "    came_from = {}\n",
        "\n",
        "    while open_list:\n",
        "        _, current = heapq.heappop(open_list)\n",
        "\n",
        "        if current == goal:\n",
        "            path = []\n",
        "            while current in came_from:\n",
        "                path.append(current)\n",
        "                current = came_from[current]\n",
        "            path.append(start)\n",
        "            path.reverse()\n",
        "            return path\n",
        "\n",
        "        for direction in directions:\n",
        "            neighbor = (current[0] + direction[0], current[1] + direction[1])\n",
        "\n",
        "            if 0 <= neighbor[0] < len(grid) and 0 <= neighbor[1] < len(grid[0]) and grid[neighbor[0]][neighbor[1]] == 0:\n",
        "                tentative_g_score = g_score[current] + 1\n",
        "\n",
        "                if neighbor not in g_score or tentative_g_score < g_score[neighbor]:\n",
        "                    came_from[neighbor] = current\n",
        "                    g_score[neighbor] = tentative_g_score\n",
        "                    f_score[neighbor] = tentative_g_score + heuristic(neighbor, goal)\n",
        "                    heapq.heappush(open_list, (f_score[neighbor], neighbor))\n",
        "\n",
        "    return None\n",
        "\n",
        "import matplotlib.pyplot as plt\n",
        "import numpy as np\n",
        "\n",
        "def visualize_path(grid, path, start, goal):\n",
        "    grid = np.array(grid)\n",
        "    for (x, y) in path:\n",
        "        grid[x, y] = 2  # Menandai jalur\n",
        "    grid[start[0], start[1]] = 3  # Menandai titik awal\n",
        "    grid[goal[0], goal[1]] = 4  # Menandai titik tujuan\n",
        "\n",
        "    cmap = plt.cm.get_cmap(\"Accent\", 5)\n",
        "\n",
        "    bounds = [0, 1, 2, 3, 4]\n",
        "    norm = plt.Normalize(vmin=0, vmax=4)\n",
        "\n",
        "    plt.imshow(grid, cmap=cmap, norm=norm)\n",
        "    plt.colorbar(ticks=[0, 1, 2, 3, 4], format=plt.FuncFormatter(lambda val, loc: ['Empty', 'Obstacle', 'Path', 'Start', 'Goal'][int(val)]))\n",
        "    plt.title(\"A* Pathfinding Visualization\")\n",
        "    plt.show()\n",
        "\n",
        "grid = [\n",
        "    [0, 0, 0, 0, 0, 0, 0, 0, 0, 0],\n",
        "    [0, 1, 1, 1, 0, 0, 0, 0, 0, 0],\n",
        "    [0, 1, 0, 1, 0, 1, 1, 1, 1, 0],\n",
        "    [0, 1, 0, 1, 0, 1, 0, 0, 1, 0],\n",
        "    [0, 1, 0, 0, 0, 1, 0, 1, 1, 0],\n",
        "    [0, 1, 1, 1, 1, 1, 0, 1, 1, 0],\n",
        "    [0, 0, 0, 0, 0, 0, 0, 1, 1, 0],\n",
        "    [0, 1, 1, 1, 1, 1, 1, 1, 1, 0],\n",
        "    [0, 1, 1, 1, 1, 1, 1, 1, 1, 0],\n",
        "    [0, 0, 0, 0, 0, 0, 0, 0, 0, 0]\n",
        "]\n",
        "\n",
        "start = (0, 0)\n",
        "goal = (9, 9)\n",
        "\n",
        "path = a_star(grid, start, goal)\n",
        "\n",
        "if path:\n",
        "    print(\"Jalur ditemukan:\", path)\n",
        "    visualize_path(grid, path, start, goal)\n",
        "else:\n",
        "    print(\"Tidak ada jalur yang ditemukan\")"
      ],
      "metadata": {
        "colab": {
          "base_uri": "https://localhost:8080/",
          "height": 524
        },
        "id": "sQn5iEhsUHPm",
        "outputId": "d696d506-5767-4bb8-e02e-0474799fee68"
      },
      "execution_count": 4,
      "outputs": [
        {
          "output_type": "stream",
          "name": "stdout",
          "text": [
            "Jalur ditemukan: [(0, 0), (0, 1), (0, 2), (0, 3), (0, 4), (0, 5), (0, 6), (0, 7), (0, 8), (0, 9), (1, 9), (2, 9), (3, 9), (4, 9), (5, 9), (6, 9), (7, 9), (8, 9), (9, 9)]\n"
          ]
        },
        {
          "output_type": "stream",
          "name": "stderr",
          "text": [
            "<ipython-input-4-20e5bc920162>:51: MatplotlibDeprecationWarning: The get_cmap function was deprecated in Matplotlib 3.7 and will be removed in 3.11. Use ``matplotlib.colormaps[name]`` or ``matplotlib.colormaps.get_cmap()`` or ``pyplot.get_cmap()`` instead.\n",
            "  cmap = plt.cm.get_cmap(\"Accent\", 5)\n"
          ]
        },
        {
          "output_type": "display_data",
          "data": {
            "text/plain": [
              "<Figure size 640x480 with 2 Axes>"
            ],
            "image/png": "[encoded data removed]"
          },
          "metadata": {}
        }
      ]
    }
  ],
  "metadata": {
    "colab": {
      "name": "Selamat Datang di Colaboratory",
      "toc_visible": true,
      "provenance": [],
      "include_colab_link": true
    },
    "kernelspec": {
      "display_name": "Python 3",
      "name": "python3"
    }
  },
  "nbformat": 4,
  "nbformat_minor": 0
}