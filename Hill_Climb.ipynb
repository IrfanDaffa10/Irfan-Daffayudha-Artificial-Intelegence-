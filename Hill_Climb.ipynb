{
  "cells": [
    {
      "cell_type": "markdown",
      "metadata": {
        "id": "view-in-github",
        "colab_type": "text"
      },
      "source": [
        "<a href=\"https://colab.research.google.com/github/IrfanDaffa10/Irfan-Daffayudha-Artificial-Intelegence-/blob/main/Hill_Climb.ipynb\" target=\"_parent\"><img src=\"https://colab.research.google.com/assets/colab-badge.svg\" alt=\"Open In Colab\"/></a>"
      ]
    },
    {
      "cell_type": "code",
      "source": [
        "import random\n",
        "\n",
        "# Fungsi objektif yang akan dimaksimalkan\n",
        "def objective_function(x):\n",
        "    # Contoh fungsi objektif: f(x) = -x^2 + 4x\n",
        "    return -x**2 + 4*x\n",
        "\n",
        "# Algoritma Hill Climbing\n",
        "def hill_climbing():\n",
        "    # Inisialisasi solusi secara acak\n",
        "    current_solution = random.uniform(-10, 10)\n",
        "    current_value = objective_function(current_solution)\n",
        "\n",
        "    step_size = 0.1\n",
        "    max_iterations = 1000\n",
        "\n",
        "    for _ in range(max_iterations):\n",
        "        # Buat tetangga solusi\n",
        "        neighbors = [current_solution + step_size, current_solution - step_size]\n",
        "\n",
        "        # Evaluasi tetangga\n",
        "        next_solution = max(neighbors, key=objective_function)\n",
        "        next_value = objective_function(next_solution)\n",
        "\n",
        "        # Cek apakah solusi lebih baik\n",
        "        if next_value > current_value:\n",
        "            current_solution = next_solution\n",
        "            current_value = next_value\n",
        "        else:\n",
        "            # Jika tidak ada solusi lebih baik, berhenti\n",
        "            break\n",
        "\n",
        "    return current_solution, current_value\n",
        "\n",
        "# Contoh penggunaan\n",
        "best_solution, best_value = hill_climbing()\n",
        "print(f\"Best solution: {best_solution}\")\n",
        "print(f\"Best value: {best_value}\")"
      ],
      "metadata": {
        "id": "BFnMPx_rdSQM",
        "outputId": "907912fb-a270-4f18-8e61-8e57f4c4ebd9",
        "colab": {
          "base_uri": "https://localhost:8080/"
        }
      },
      "execution_count": null,
      "outputs": [
        {
          "output_type": "stream",
          "name": "stdout",
          "text": [
            "Best solution: 2.0156729256438357\n",
            "Best value: 3.999754359401763\n"
          ]
        }
      ]
    },
    {
      "cell_type": "markdown",
      "source": [
        "1. Apa yang Dicari oleh Program Ini?\n",
        "Program ini ingin menemukan nilai maksimum dari fungsi berikut:\n",
        "\n",
        "𝑓\n",
        "(\n",
        "𝑥\n",
        ")\n",
        "=\n",
        "−\n",
        "𝑥\n",
        "2\n",
        "+\n",
        "4\n",
        "𝑥\n",
        "f(x)=−x\n",
        "2\n",
        " +4x\n",
        "Ini adalah bentuk parabola terbalik, di mana ada satu titik tertinggi (maksimum global).\n",
        "Jika kita gambar, bentuknya seperti gunung, dan kita ingin mendaki ke puncaknya.\n",
        "\n",
        "Bagaimana Menemukan Titik Maksimum?\n",
        "Secara matematika, kita bisa mencari titik tertinggi dengan menghitung turunan. Hasilnya:\n",
        "\n",
        "Nilai x terbaik adalah 2.\n",
        "Nilai tertinggi (f(x)) adalah 4.\n",
        "Tapi di sini, kita menggunakan Hill Climbing untuk menemukan titik itu tanpa perlu menghitung turunan.\n",
        "\n",
        "2. Bagaimana Cara Kerja Algoritma Hill Climbing?\n",
        "Langkah-langkahnya:\n",
        "Pilih angka acak untuk x (misalnya antara -10 sampai 10).\n",
        "Hitung f(x) untuk angka tersebut.\n",
        "Coba dua angka tetangga:\n",
        "Satu langkah ke kanan (x + step_size).\n",
        "Satu langkah ke kiri (x - step_size).\n",
        "Pilih yang lebih baik (nilai f(x) lebih besar).\n",
        "Ulangi terus sampai tidak ada angka yang lebih baik.\n",
        "Jika tidak ada langkah yang bisa naik lagi, program berhenti dan mengembalikan nilai terbaik yang ditemukan.\n",
        "\n",
        "3. Contoh Perjalanan Algoritma\n",
        "Misalkan kita mulai dengan x = 0:\n",
        "\n",
        "f(0) = 0\n",
        "Coba x = 0.1 dan x = -0.1\n",
        "f(0.1) lebih besar, jadi pindah ke sana\n",
        "Ulangi proses ini sampai mencapai x = 2\n",
        "Tidak ada langkah yang bisa meningkatkan nilai lagi → berhenti\n",
        "Hasilnya, program menemukan:\n",
        "\n",
        "yaml\n",
        "Salin\n",
        "Edit\n",
        "Best solution: 2.0\n",
        "Best value: 4.0\n",
        "Yang memang benar adalah puncak dari fungsi ini!\n",
        "\n",
        "4. Kelebihan & Kekurangan Hill Climbing\n",
        "Kelebihan (Kelebihan Algoritma)\n",
        "Cepat & sederhana → Tidak butuh rumus turunan atau perhitungan rumit.\n",
        "Cocok untuk fungsi yang hanya punya satu puncak → Seperti fungsi ini.\n",
        "\n",
        "Kekurangan (Masalah yang Bisa Terjadi)\n",
        "Bisa terjebak di \"bukit kecil\" → Jika ada banyak puncak, bisa berhenti di yang bukan yang tertinggi.\n",
        "Bergantung pada langkah (step size) → Jika terlalu besar, bisa melompati solusi terbaik. Jika terlalu kecil, butuh waktu lama.\n",
        "\n",
        "5. Cara Memperbaiki Kekurangan\n",
        "Coba dari beberapa titik awal → Bisa menemukan puncak yang lebih tinggi.\n",
        "Gunakan \"Simulated Annealing\" → Terkadang menerima solusi lebih buruk agar bisa keluar dari jebakan lokal.\n",
        "Ubah langkah (step size) secara dinamis → Awalnya besar, lalu semakin kecil saat mendekati puncak.\n",
        "Kesimpulan\n",
        "Hill Climbing bekerja seperti mendaki bukit: selalu mencari jalan naik sampai tidak ada lagi.\n",
        "Untuk fungsi sederhana seperti ini, dia sangat efektif.\n",
        "Untuk fungsi lebih rumit dengan banyak puncak, bisa terjebak.\n",
        "Kode ini bagus untuk optimasi cepat, tetapi jika ada banyak puncak, perlu metode lain seperti Simulated Annealing atau Restart Hill Climbing."
      ],
      "metadata": {
        "id": "0H2axCUGh5Rg"
      }
    },
    {
      "cell_type": "code",
      "source": [
        "import random\n",
        "import numpy as np\n",
        "import matplotlib.pyplot as plt\n",
        "\n",
        "# 🏔️ Grid Ketinggian Gunung (Semakin besar nilainya, semakin tinggi titiknya)\n",
        "elevation_map = np.array([\n",
        "    [2, 3, 3, 4, 1, 2, 1, 0],\n",
        "    [1, 6, 5, 8, 3, 2, 2, 1],\n",
        "    [2, 7, 9, 12, 5, 3, 2, 1],\n",
        "    [3, 5, 11, 15, 7, 4, 2, 2],\n",
        "    [1, 4, 10, 18, 9, 5, 3, 2],\n",
        "    [2, 3, 8, 14, 12, 8, 4, 3],\n",
        "    [1, 2, 6, 10, 13, 11, 5, 4],\n",
        "    [0, 1, 4, 7, 9, 8, 6, 5]\n",
        "])\n",
        "\n",
        "# ⛰️ Memilih posisi awal pendaki secara acak\n",
        "start_position = (random.randint(0, 7), random.randint(0, 7))\n",
        "\n",
        "# 🎯 Hill Climbing Algorithm\n",
        "def hill_climbing(grid, start):\n",
        "    current_position = start\n",
        "    current_height = grid[current_position]\n",
        "\n",
        "    while True:\n",
        "        neighbors = []\n",
        "        x, y = current_position\n",
        "\n",
        "        # Pergerakan ke atas, bawah, kiri, kanan\n",
        "        moves = [(0, 1), (1, 0), (0, -1), (-1, 0)]\n",
        "        for dx, dy in moves:\n",
        "            nx, ny = x + dx, y + dy\n",
        "            if 0 <= nx < grid.shape[0] and 0 <= ny < grid.shape[1]:\n",
        "                neighbors.append(((nx, ny), grid[nx, ny]))\n",
        "\n",
        "        # Mencari tetangga dengan ketinggian tertinggi\n",
        "        best_neighbor = max(neighbors, key=lambda x: x[1])\n",
        "\n",
        "        # Jika tetangga lebih tinggi, pindah ke sana\n",
        "        if best_neighbor[1] > current_height:\n",
        "            current_position = best_neighbor[0]\n",
        "            current_height = best_neighbor[1]\n",
        "        else:\n",
        "            break  # Jika tidak ada yang lebih tinggi, berhenti\n",
        "\n",
        "    return current_position, current_height\n",
        "\n",
        "# 🔥 Jalankan algoritma\n",
        "peak_position, peak_height = hill_climbing(elevation_map, start_position)\n",
        "\n",
        "# 📊 Visualisasi Hasil\n",
        "plt.imshow(elevation_map, cmap=\"terrain\", origin=\"upper\")\n",
        "plt.colorbar(label=\"Ketinggian\")\n",
        "plt.scatter(start_position[1], start_position[0], color=\"blue\", label=\"Start (Pendaki)\")\n",
        "plt.scatter(peak_position[1], peak_position[0], color=\"red\", label=\"Puncak Tertinggi\")\n",
        "plt.legend()\n",
        "plt.title(\"🗻 Pencarian Puncak Gunung dengan Hill Climbing\")\n",
        "plt.show()\n",
        "\n",
        "# 🏆 Cetak hasil\n",
        "print(f\"Pendaki memulai dari {start_position} dengan ketinggian {elevation_map[start_position]}\")\n",
        "print(f\"Pendaki mencapai puncak di {peak_position} dengan ketinggian {peak_height}\")\n"
      ],
      "metadata": {
        "id": "92ZUDH21irAZ",
        "outputId": "ffdc0978-bdad-436d-b891-95662354568a",
        "colab": {
          "base_uri": "https://localhost:8080/",
          "height": 521
        }
      },
      "execution_count": null,
      "outputs": [
        {
          "output_type": "stream",
          "name": "stderr",
          "text": [
            "/usr/local/lib/python3.11/dist-packages/IPython/core/pylabtools.py:151: UserWarning: Glyph 128507 (\\N{MOUNT FUJI}) missing from font(s) DejaVu Sans.\n",
            "  fig.canvas.print_figure(bytes_io, **kw)\n"
          ]
        },
        {
          "output_type": "display_data",
          "data": {
            "text/plain": [
              "<Figure size 640x480 with 2 Axes>"
            ],
            "image/png": "[encoded data removed]"
          },
          "metadata": {}
        },
        {
          "output_type": "stream",
          "name": "stdout",
          "text": [
            "Pendaki memulai dari (6, 5) dengan ketinggian 11\n",
            "Pendaki mencapai puncak di (6, 4) dengan ketinggian 13\n"
          ]
        }
      ]
    }
  ],
  "metadata": {
    "colab": {
      "toc_visible": true,
      "provenance": [],
      "include_colab_link": true
    },
    "kernelspec": {
      "display_name": "Python 3",
      "name": "python3"
    }
  },
  "nbformat": 4,
  "nbformat_minor": 0
}