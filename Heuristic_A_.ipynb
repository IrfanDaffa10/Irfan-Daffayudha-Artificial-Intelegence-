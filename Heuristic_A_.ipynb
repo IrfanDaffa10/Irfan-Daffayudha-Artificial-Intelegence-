{
  "cells": [
    {
      "cell_type": "markdown",
      "metadata": {
        "id": "view-in-github",
        "colab_type": "text"
      },
      "source": [
        "<a href=\"https://colab.research.google.com/github/IrfanDaffa10/Irfan-Daffayudha-Artificial-Intelegence-/blob/main/Heuristic_A_.ipynb\" target=\"_parent\"><img src=\"https://colab.research.google.com/assets/colab-badge.svg\" alt=\"Open In Colab\"/></a>"
      ]
    },
    {
      "cell_type": "code",
      "source": [
        "import heapq\n",
        "\n",
        "def a_star(grid, start, goal):\n",
        "    def heuristic(a, b):\n",
        "        return abs(a[0] - b[0]) + abs(a[1] - b[1])\n",
        "\n",
        "    directions = [(0, 1), (1, 0), (0, -1), (-1, 0)]\n",
        "    open_list = []\n",
        "    heapq.heappush(open_list, (0, start))\n",
        "\n",
        "    g_score = {start: 0}\n",
        "    f_score = {start: heuristic(start, goal)}\n",
        "    came_from = {}\n",
        "\n",
        "    while open_list:\n",
        "        _, current = heapq.heappop(open_list)\n",
        "\n",
        "        if current == goal:\n",
        "            path = []\n",
        "            while current in came_from:\n",
        "                path.append(current)\n",
        "                current = came_from[current]\n",
        "            path.append(start)\n",
        "            path.reverse()\n",
        "            return path\n",
        "\n",
        "        for direction in directions:\n",
        "            neighbor = (current[0] + direction[0], current[1] + direction[1])\n",
        "\n",
        "            if 0 <= neighbor[0] < len(grid) and 0 <= neighbor[1] < len(grid[0]) and grid[neighbor[0]][neighbor[1]] == 0:\n",
        "                tentative_g_score = g_score[current] + 1\n",
        "\n",
        "                if neighbor not in g_score or tentative_g_score < g_score[neighbor]:\n",
        "                    came_from[neighbor] = current\n",
        "                    g_score[neighbor] = tentative_g_score\n",
        "                    f_score[neighbor] = tentative_g_score + heuristic(neighbor, goal)\n",
        "                    heapq.heappush(open_list, (f_score[neighbor], neighbor))\n",
        "\n",
        "    return None\n",
        "\n",
        "import matplotlib.pyplot as plt\n",
        "import numpy as np\n",
        "\n",
        "def visualize_path(grid, path, start, goal):\n",
        "    grid = np.array(grid)\n",
        "    for (x, y) in path:\n",
        "        grid[x, y] = 2  # Menandai jalur\n",
        "    grid[start[0], start[1]] = 3  # Menandai titik awal\n",
        "    grid[goal[0], goal[1]] = 4  # Menandai titik tujuan\n",
        "\n",
        "    cmap = plt.cm.get_cmap(\"Accent\", 5)\n",
        "\n",
        "    bounds = [0, 1, 2, 3, 4]\n",
        "    norm = plt.Normalize(vmin=0, vmax=4)\n",
        "\n",
        "    plt.imshow(grid, cmap=cmap, norm=norm)\n",
        "    plt.colorbar(ticks=[0, 1, 2, 3, 4], format=plt.FuncFormatter(lambda val, loc: ['Empty', 'Obstacle', 'Path', 'Start', 'Goal'][int(val)]))\n",
        "    plt.title(\"A* Pathfinding Visualization\")\n",
        "    plt.show()\n",
        "\n",
        "grid = [\n",
        "    [0, 0, 0, 0, 0, 0, 0, 0, 0, 0],\n",
        "    [0, 1, 1, 1, 0, 0, 0, 0, 0, 0],\n",
        "    [0, 1, 0, 1, 0, 1, 1, 1, 1, 0],\n",
        "    [0, 1, 0, 1, 0, 1, 0, 0, 1, 0],\n",
        "    [0, 1, 0, 0, 0, 1, 0, 1, 1, 0],\n",
        "    [0, 1, 1, 1, 1, 1, 0, 1, 1, 0],\n",
        "    [0, 0, 0, 0, 0, 0, 0, 1, 1, 0],\n",
        "    [0, 1, 1, 1, 1, 1, 1, 1, 1, 0],\n",
        "    [0, 1, 1, 1, 1, 1, 1, 1, 1, 0],\n",
        "    [0, 0, 0, 0, 0, 0, 0, 0, 0, 0]\n",
        "]\n",
        "\n",
        "start = (0, 0)\n",
        "goal = (9, 9)\n",
        "\n",
        "path = a_star(grid, start, goal)\n",
        "\n",
        "if path:\n",
        "    print(\"Jalur ditemukan:\", path)\n",
        "    visualize_path(grid, path, start, goal)\n",
        "else:\n",
        "    print(\"Tidak ada jalur yang ditemukan\")"
      ],
      "metadata": {
        "colab": {
          "base_uri": "https://localhost:8080/",
          "height": 524
        },
        "id": "sQn5iEhsUHPm",
        "outputId": "d696d506-5767-4bb8-e02e-0474799fee68"
      },
      "execution_count": null,
      "outputs": [
        {
          "output_type": "stream",
          "name": "stdout",
          "text": [
            "Jalur ditemukan: [(0, 0), (0, 1), (0, 2), (0, 3), (0, 4), (0, 5), (0, 6), (0, 7), (0, 8), (0, 9), (1, 9), (2, 9), (3, 9), (4, 9), (5, 9), (6, 9), (7, 9), (8, 9), (9, 9)]\n"
          ]
        },
        {
          "output_type": "stream",
          "name": "stderr",
          "text": [
            "<ipython-input-4-20e5bc920162>:51: MatplotlibDeprecationWarning: The get_cmap function was deprecated in Matplotlib 3.7 and will be removed in 3.11. Use ``matplotlib.colormaps[name]`` or ``matplotlib.colormaps.get_cmap()`` or ``pyplot.get_cmap()`` instead.\n",
            "  cmap = plt.cm.get_cmap(\"Accent\", 5)\n"
          ]
        },
        {
          "output_type": "display_data",
          "data": {
            "text/plain": [
              "<Figure size 640x480 with 2 Axes>"
            ],
            "image/png": "[encoded data removed]"
          },
          "metadata": {}
        }
      ]
    },
    {
      "cell_type": "markdown",
      "source": [
        "1. Fungsi a_star(grid, start, goal)\n",
        "Penjelasan\n",
        "Algoritma A* digunakan untuk menemukan jalur terpendek dalam grid 2D dari start ke goal.\n",
        "Algoritma ini menggunakan heuristik Manhattan (jumlah perbedaan baris dan kolom) untuk memperkirakan jarak dari suatu titik ke tujuan.\n",
        "Gunakan priority queue (heapq) untuk memilih node dengan nilai f_score (perkiraan total biaya jalur).\n",
        "Langkah-langkah utama\n",
        "Inisialisasi\n",
        "\n",
        "open_list → priority queue untuk menyimpan node yang sedang dievaluasi.\n",
        "g_score → menyimpan jarak dari start ke setiap node.\n",
        "f_score → menyimpan total estimasi biaya (fungsi heuristik).\n",
        "came_from → menyimpan jejak node untuk rekonstruksi jalur.\n",
        "Iterasi utama\n",
        "\n",
        "Ambil node dengan f_score terendah dari open_list.\n",
        "Jika node adalah goal, rekonstruksi jalur dan kembalikan.\n",
        "Cek semua tetangga (atas, bawah, kiri, kanan).\n",
        "Jika tetangga valid dan memberikan jalur lebih optimal, update nilai g_score dan f_score, lalu masukkan ke open_list.\n",
        "Jika tidak ada jalur ditemukan, kembalikan None.\n",
        "\n",
        "2. Fungsi visualize_path(grid, path, start, goal)\n",
        "Penjelasan\n",
        "Fungsi ini menggunakan Matplotlib untuk menampilkan grid dan jalur yang ditemukan.\n",
        "Elemen grid diberi nilai sebagai berikut:\n",
        "0 → Ruang kosong\n",
        "1 → Rintangan\n",
        "2 → Jalur yang ditemukan\n",
        "3 → Titik awal\n",
        "4 → Titik tujuan\n",
        "Warna ditentukan oleh colormap \"Accent\".\n",
        "\n",
        "3. Contoh Penggunaan\n",
        "Grid ukuran 10x10 dengan beberapa rintangan (1).\n",
        "Titik awal: (0,0)\n",
        "Titik tujuan: (9,9)\n",
        "Jika jalur ditemukan, jalur ditampilkan dalam bentuk array koordinat dan divisualisasikan.\n",
        "\n",
        "4. Evaluasi Kode\n",
        "Kelebihan\n",
        "Menggunakan A*: Algoritma optimal untuk pencarian jalur.\n",
        "Heuristik Manhattan: Cocok untuk pergerakan grid tanpa diagonal.\n",
        "Efisien dengan heapq: heapq mempercepat pemilihan node terbaik.\n",
        "Visualisasi dengan Matplotlib: Membantu memahami hasil pencarian jalur.\n",
        "\n",
        "Kekurangan\n",
        "Tidak mendukung pergerakan diagonal (hanya 4 arah: atas, bawah, kiri, kanan).\n",
        "Tidak mempertimbangkan bobot berbeda untuk jalur (semua jalur memiliki bobot yang sama).\n",
        "Tidak menangani grid dinamis (misalnya, jika rintangan berubah saat pencarian berjalan).\n",
        "\n",
        "5. Saran Peningkatan\n",
        "Menambahkan pergerakan diagonal, misalnya dengan arah tambahan (-1, -1), (-1, 1), (1, -1), (1, 1).\n",
        "Mendukung bobot berbeda jika ingin simulasi lebih realistis (misalnya, beberapa jalur lebih lambat dilalui).\n",
        "Menggunakan mode animasi Matplotlib untuk melihat proses pencarian jalur secara visual.\n",
        "\n",
        "Kesimpulan\n",
        "Kode ini merupakan implementasi A* yang baik untuk pencarian jalur dalam grid statis. Algoritmanya efisien, dan visualisasi memberikan gambaran jalur yang ditemukan. Namun, ada beberapa keterbatasan seperti tidak adanya pergerakan diagonal dan tidak mendukung bobot variabel. Jika ingin meningkatkan realisme, perlu modifikasi lebih lanjut."
      ],
      "metadata": {
        "id": "XhqSPNmpZIJb"
      }
    },
    {
      "cell_type": "code",
      "source": [
        "import heapq\n",
        "import matplotlib.pyplot as plt\n",
        "import numpy as np\n",
        "\n",
        "def a_star(grid, start, goal):\n",
        "    def heuristic(a, b):\n",
        "        \"\"\" Menghitung heuristic (Manhattan Distance) \"\"\"\n",
        "        return abs(a[0] - b[0]) + abs(a[1] - b[1])\n",
        "\n",
        "    directions = [\n",
        "        (0, 1), (1, 0), (0, -1), (-1, 0),  # Atas, Bawah, Kiri, Kanan\n",
        "        (-1, -1), (-1, 1), (1, -1), (1, 1) # Diagonal\n",
        "    ]\n",
        "\n",
        "    open_list = []\n",
        "    heapq.heappush(open_list, (0, start))\n",
        "\n",
        "    g_score = {start: 0}\n",
        "    f_score = {start: heuristic(start, goal)}\n",
        "    came_from = {}\n",
        "\n",
        "    while open_list:\n",
        "        _, current = heapq.heappop(open_list)\n",
        "\n",
        "        if current == goal:\n",
        "            path = []\n",
        "            while current in came_from:\n",
        "                path.append(current)\n",
        "                current = came_from[current]\n",
        "            path.append(start)\n",
        "            path.reverse()\n",
        "            return path\n",
        "\n",
        "        for direction in directions:\n",
        "            neighbor = (current[0] + direction[0], current[1] + direction[1])\n",
        "\n",
        "            if 0 <= neighbor[0] < len(grid) and 0 <= neighbor[1] < len(grid[0]) and grid[neighbor[0]][neighbor[1]] != -1:\n",
        "                cost = 1 if direction in [(0, 1), (1, 0), (0, -1), (-1, 0)] else 1.4  # Bobot ekstra untuk diagonal\n",
        "                tentative_g_score = g_score[current] + grid[neighbor[0]][neighbor[1]] * cost\n",
        "\n",
        "                if neighbor not in g_score or tentative_g_score < g_score[neighbor]:\n",
        "                    came_from[neighbor] = current\n",
        "                    g_score[neighbor] = tentative_g_score\n",
        "                    f_score[neighbor] = tentative_g_score + heuristic(neighbor, goal)\n",
        "                    heapq.heappush(open_list, (f_score[neighbor], neighbor))\n",
        "\n",
        "    return None\n",
        "\n",
        "def visualize_path(grid, path, start, goal):\n",
        "    grid = np.array(grid, dtype=float)\n",
        "    for (x, y) in path:\n",
        "        grid[x, y] = 2  # Menandai jalur\n",
        "    grid[start[0], start[1]] = 3  # Titik awal\n",
        "    grid[goal[0], goal[1]] = 4  # Titik tujuan\n",
        "\n",
        "    cmap = plt.cm.get_cmap(\"Accent\", 5)\n",
        "\n",
        "    plt.imshow(grid, cmap=cmap, interpolation=\"nearest\")\n",
        "    plt.colorbar()\n",
        "    plt.title(\"A* Pathfinding with Weighted Grid\")\n",
        "    plt.show()\n",
        "\n",
        "# Definisi grid (0 = jalan biasa, angka lebih besar = lebih sulit dilalui, -1 = rintangan)\n",
        "grid = [\n",
        "    [1, 1, 1, 1, 1, 2, 1, 1, 1, 1],\n",
        "    [1, -1, -1, -1, 1, 2, 1, -1, -1, 1],\n",
        "    [1, -1, 3, -1, 1, -1, 1, -1, 1, 1],\n",
        "    [1, -1, 1, -1, 1, -1, 1, -1, 1, 1],\n",
        "    [1, -1, 1, 1, 1, -1, 1, 1, 1, 1],\n",
        "    [1, 1, 1, -1, 1, 1, 1, -1, -1, 1],\n",
        "    [1, -1, -1, -1, -1, -1, 1, 1, 1, 1],\n",
        "    [1, 1, 1, 1, 2, 2, 1, -1, -1, 1],\n",
        "    [1, -1, -1, -1, -1, -1, 1, -1, -1, 1],\n",
        "    [1, 1, 1, 1, 1, 1, 1, 1, 1, 1]\n",
        "]\n",
        "\n",
        "start = (0, 0)\n",
        "goal = (9, 9)\n",
        "\n",
        "path = a_star(grid, start, goal)\n",
        "\n",
        "if path:\n",
        "    print(\"Jalur ditemukan:\", path)\n",
        "    visualize_path(grid, path, start, goal)\n",
        "else:\n",
        "    print(\"Tidak ada jalur yang ditemukan\")\n"
      ],
      "metadata": {
        "id": "EyJeTd8rZ-kd",
        "outputId": "9cc1ce22-1262-42f9-f9c9-397a280c70dd",
        "colab": {
          "base_uri": "https://localhost:8080/",
          "height": 524
        }
      },
      "execution_count": 1,
      "outputs": [
        {
          "output_type": "stream",
          "name": "stdout",
          "text": [
            "Jalur ditemukan: [(0, 0), (0, 1), (0, 2), (0, 3), (1, 4), (2, 4), (3, 4), (4, 4), (5, 5), (6, 6), (6, 7), (6, 8), (7, 9), (8, 9), (9, 9)]\n"
          ]
        },
        {
          "output_type": "stream",
          "name": "stderr",
          "text": [
            "<ipython-input-1-ededdb108263>:56: MatplotlibDeprecationWarning: The get_cmap function was deprecated in Matplotlib 3.7 and will be removed in 3.11. Use ``matplotlib.colormaps[name]`` or ``matplotlib.colormaps.get_cmap()`` or ``pyplot.get_cmap()`` instead.\n",
            "  cmap = plt.cm.get_cmap(\"Accent\", 5)\n"
          ]
        },
        {
          "output_type": "display_data",
          "data": {
            "text/plain": [
              "<Figure size 640x480 with 2 Axes>"
            ],
            "image/png": "[encoded data removed]"
          },
          "metadata": {}
        }
      ]
    },
    {
      "cell_type": "markdown",
      "source": [],
      "metadata": {
        "id": "9BDL2AgcYPcy"
      }
    }
  ],
  "metadata": {
    "colab": {
      "toc_visible": true,
      "provenance": [],
      "include_colab_link": true
    },
    "kernelspec": {
      "display_name": "Python 3",
      "name": "python3"
    }
  },
  "nbformat": 4,
  "nbformat_minor": 0
}